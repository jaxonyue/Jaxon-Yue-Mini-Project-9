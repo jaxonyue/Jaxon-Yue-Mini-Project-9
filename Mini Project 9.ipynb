{
  "nbformat": 4,
  "nbformat_minor": 0,
  "metadata": {
    "colab": {
      "provenance": [],
      "authorship_tag": "ABX9TyNGCTjBGWAkRlViGUx/Gmzi",
      "include_colab_link": true
    },
    "kernelspec": {
      "name": "python3",
      "display_name": "Python 3"
    },
    "language_info": {
      "name": "python"
    }
  },
  "cells": [
    {
      "cell_type": "markdown",
      "metadata": {
        "id": "view-in-github",
        "colab_type": "text"
      },
      "source": [
        "<a href=\"https://colab.research.google.com/github/jaxonyue/Jaxon-Yue-Mini-Project-9/blob/main/Mini%20Project%209.ipynb\" target=\"_parent\"><img src=\"https://colab.research.google.com/assets/colab-badge.svg\" alt=\"Open In Colab\"/></a>"
      ]
    },
    {
      "cell_type": "code",
      "execution_count": 14,
      "metadata": {
        "id": "hgyP6eXLcDTF"
      },
      "outputs": [],
      "source": [
        "import pandas as pd\n",
        "import numpy as np\n",
        "import matplotlib.pyplot as plt"
      ]
    },
    {
      "cell_type": "code",
      "source": [
        "wages_1 = pd.read_csv('Development of Average Annual Wages_1.csv')\n",
        "wages_2 = pd.read_csv('Development of Average Annual Wages_2.csv')"
      ],
      "metadata": {
        "id": "QWovjnCrcfDP"
      },
      "execution_count": 2,
      "outputs": []
    },
    {
      "cell_type": "markdown",
      "source": [
        "Top 5 countries with the highest 2020 annual average wages"
      ],
      "metadata": {
        "id": "Lfhy4iq4fN6M"
      }
    },
    {
      "cell_type": "code",
      "source": [
        "wages_1.sort_values('2020', ascending = False).head(5)"
      ],
      "metadata": {
        "id": "YkaCKwBRe4iB"
      },
      "execution_count": null,
      "outputs": []
    },
    {
      "cell_type": "markdown",
      "source": [
        "Top 5 countries with the lowest 2020 annual average wages"
      ],
      "metadata": {
        "id": "46gdkTyQfNfD"
      }
    },
    {
      "cell_type": "code",
      "source": [
        "wages_2.sort_values('2022', ascending = True).head(5)"
      ],
      "metadata": {
        "id": "8sSejEo4fBe6"
      },
      "execution_count": null,
      "outputs": []
    },
    {
      "cell_type": "markdown",
      "source": [
        "Merge the two tables to have data from 2000 to 2022"
      ],
      "metadata": {
        "id": "oWjfCxjTfjJR"
      }
    },
    {
      "cell_type": "code",
      "source": [
        "wages_3 = pd.merge(wages_1, wages_2)\n",
        "wages_3.head()"
      ],
      "metadata": {
        "id": "awNjZhNNfpKs"
      },
      "execution_count": null,
      "outputs": []
    },
    {
      "cell_type": "markdown",
      "source": [
        "The min, mean, median, and max of 2022 numbers"
      ],
      "metadata": {
        "id": "64E9Ly2e_yR4"
      }
    },
    {
      "cell_type": "code",
      "source": [
        "min = np.min(wages_3['2020'])\n",
        "mean = np.mean(wages_3['2020'])\n",
        "median = np.median(wages_3['2020'])\n",
        "max = np.max(wages_3['2020'])\n",
        "min, mean, median, max"
      ],
      "metadata": {
        "id": "J4k4ti-3fucD",
        "outputId": "53c8eee3-345b-4ccb-bf58-b31133871e3d",
        "colab": {
          "base_uri": "https://localhost:8080/"
        }
      },
      "execution_count": 17,
      "outputs": [
        {
          "output_type": "execute_result",
          "data": {
            "text/plain": [
              "(17467, 47462.94736842105, 48449.5, 77567)"
            ]
          },
          "metadata": {},
          "execution_count": 17
        }
      ]
    }
  ]
}